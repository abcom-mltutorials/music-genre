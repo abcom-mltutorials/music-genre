{
  "nbformat": 4,
  "nbformat_minor": 0,
  "metadata": {
    "colab": {
      "name": "Music Genre Classification.ipynb",
      "provenance": [],
      "collapsed_sections": []
    },
    "kernelspec": {
      "name": "python3",
      "display_name": "Python 3"
    },
    "accelerator": "GPU"
  },
  "cells": [
    {
      "cell_type": "markdown",
      "metadata": {
        "id": "hT7u_tZts0iT"
      },
      "source": [
        "# **Music Genre Classification**\n"
      ]
    },
    {
      "cell_type": "markdown",
      "metadata": {
        "id": "16ITTBNL8nSC"
      },
      "source": [
        "Copyright @ 2020 **ABCOM Information Systems Pvt. Ltd.** All Rights Reserved.\n",
        "\n",
        "Licensed under the Apache License, Version 2.0 (the \"License\"); you may not use this file except in compliance with the License. You may obtain a copy of the License at\n",
        "\n",
        "http://www.apache.org/licenses/LICENSE-2.0\n",
        "\n",
        "Unless required by applicable law or agreed to in writing, software distributed under the License is distributed on an \"AS IS\" BASIS, WITHOUT WARRANTIES OR CONDITIONS OF ANY KIND, either express or implied.\n",
        "\n",
        "See the License for the specific language governing permissions and limitations under the License."
      ]
    },
    {
      "cell_type": "markdown",
      "metadata": {
        "id": "1a-U-3jntgkB"
      },
      "source": [
        "# Install **python_speech_features** module."
      ]
    },
    {
      "cell_type": "code",
      "metadata": {
        "id": "skYfTJoIJP13"
      },
      "source": [
        "!pip install python_speech_features"
      ],
      "execution_count": null,
      "outputs": []
    },
    {
      "cell_type": "markdown",
      "metadata": {
        "id": "baUEIT8VUPj4"
      },
      "source": [
        "# pudub for converting mp3 to wav"
      ]
    },
    {
      "cell_type": "code",
      "metadata": {
        "id": "3F5vB0OGuESF"
      },
      "source": [
        "!pip install pydub"
      ],
      "execution_count": null,
      "outputs": []
    },
    {
      "cell_type": "code",
      "metadata": {
        "id": "JSN21RiqJTEB"
      },
      "source": [
        "import numpy as np\n",
        "import os\n",
        "import pickle\n",
        "import random\n",
        "import pandas as pd\n",
        "import sklearn\n",
        "import scipy.io.wavfile as wav\n",
        "from os import path\n",
        "from pydub import AudioSegment\n",
        "from python_speech_features import mfcc\n",
        "from sklearn.metrics import classification_report\n",
        "from collections import defaultdict"
      ],
      "execution_count": null,
      "outputs": []
    },
    {
      "cell_type": "markdown",
      "metadata": {
        "id": "J8nhlyuvUjAo"
      },
      "source": [
        "# Downloading data"
      ]
    },
    {
      "cell_type": "code",
      "metadata": {
        "id": "OWZP6qxXJDza"
      },
      "source": [
        "!wget https://github.com/abcom-mltutorials/music-genre/archive/master.zip"
      ],
      "execution_count": null,
      "outputs": []
    },
    {
      "cell_type": "code",
      "metadata": {
        "id": "VLtzUweQJMmF"
      },
      "source": [
        "!unzip \"/content/master.zip\""
      ],
      "execution_count": null,
      "outputs": []
    },
    {
      "cell_type": "markdown",
      "metadata": {
        "id": "qhRMoMrnUv6Q"
      },
      "source": [
        "# Creating a list for filenames"
      ]
    },
    {
      "cell_type": "code",
      "metadata": {
        "id": "wvxTfgNGJVtT"
      },
      "source": [
        "directory = \"/content/music-genre-master/Dataset\"\n",
        "filelist=[]\n",
        "for path, subdirs, files in os.walk(directory):\n",
        "    for file in files:\n",
        "        if (file.endswith('.wav') or file.endswith('.WAV')):\n",
        "            filelist.append(os.path.join(path, file))\n",
        "number_of_files=len(filelist)\n",
        "print(number_of_files)"
      ],
      "execution_count": null,
      "outputs": []
    },
    {
      "cell_type": "markdown",
      "metadata": {
        "id": "drbG_b4lvQ5G"
      },
      "source": [
        "# Extracting features\n",
        "Extract the feactures from the audio files and store it along with the class_label.\n",
        "\n",
        "Create a list and append all the features into a single list."
      ]
    },
    {
      "cell_type": "code",
      "metadata": {
        "id": "AHDV_XboBTTv"
      },
      "source": [
        "def feature_extraction(file):\n",
        "  features=[]\n",
        "  (sampleRate,data) = wav.read(file)\n",
        "  mfcc_feature = mfcc(data,sampleRate, \n",
        "                            winlen=0.020, \n",
        "                            appendEnergy = False)\n",
        "  meanMatrix = mfcc_feature.mean(0)\n",
        "  for x in meanMatrix:\n",
        "    features.append(x)\n",
        "  return features"
      ],
      "execution_count": null,
      "outputs": []
    },
    {
      "cell_type": "code",
      "metadata": {
        "id": "gb3cAfblcku0"
      },
      "source": [
        "datasetDirectory = \"/content/music-genre-master/Dataset/\"\n",
        "\n",
        "featureSet=[]\n",
        "i=0\n",
        "for folder in os.listdir(datasetDirectory):\n",
        "    i+=1\n",
        "    if i > 9: # the number of genre is 9\n",
        "        break   \n",
        "    for files in os.listdir(datasetDirectory+folder):\n",
        "      x=datasetDirectory+folder+\"/\"+files\n",
        "      features=feature_extraction(x)\n",
        "      j=0\n",
        "      for x in features:\n",
        "        featureSet.append(x)\n",
        "        j=j+1\n",
        "        if(j%13==0): # the number of feaatures is 13\n",
        "          featureSet.append(i)"
      ],
      "execution_count": null,
      "outputs": []
    },
    {
      "cell_type": "code",
      "metadata": {
        "id": "zbiZE8MOWb_-"
      },
      "source": [
        "for i in range(14,28):\n",
        "  print (featureSet[i])"
      ],
      "execution_count": null,
      "outputs": []
    },
    {
      "cell_type": "markdown",
      "metadata": {
        "id": "vv_Ix1ECvboi"
      },
      "source": [
        "## Construct dataframe"
      ]
    },
    {
      "cell_type": "code",
      "metadata": {
        "id": "SHQhIzG3fMVo"
      },
      "source": [
        "df = pd.DataFrame(columns=['m1','m2','m3','m4','m5','m6','m7',\n",
        "                           'm8','m9','m10','m11','m12','m13','target'])"
      ],
      "execution_count": null,
      "outputs": []
    },
    {
      "cell_type": "code",
      "metadata": {
        "id": "CaxgtUO0kSXp",
        "cellView": "code"
      },
      "source": [
        "i=1\n",
        "n=[]\n",
        "for j in featureSet:\n",
        "  n.append(j)\n",
        "  #13 features + 1 taget\n",
        "  if(i%14==0):\n",
        "    df = df.append({'m1':n[0],'m2':n[1],'m3':n[2],'m4':n[3],'m5':n[4],\n",
        "                    'm6':n[5],'m7':n[6],'m8':n[7],'m9':n[8],'m10':n[9],\n",
        "                    'm11':n[10],'m12':n[11],'m13':n[12],'target':n[13]}, \n",
        "                   ignore_index=True)\n",
        "    n=[]\n",
        "  i=i+1"
      ],
      "execution_count": null,
      "outputs": []
    },
    {
      "cell_type": "code",
      "metadata": {
        "id": "74iyF07wl-Ir"
      },
      "source": [
        "df"
      ],
      "execution_count": null,
      "outputs": []
    },
    {
      "cell_type": "markdown",
      "metadata": {
        "id": "ZcF_ZtXBYfhP"
      },
      "source": [
        "# Separating features and target"
      ]
    },
    {
      "cell_type": "code",
      "metadata": {
        "id": "fZITDAOh9_4S"
      },
      "source": [
        "x1=df[['m1','m2','m3','m4','m5','m6','m7','m8','m9','m10','m11','m12','m13']]\n",
        "x1.shape"
      ],
      "execution_count": null,
      "outputs": []
    },
    {
      "cell_type": "code",
      "metadata": {
        "id": "3RUsXKxgc9iA"
      },
      "source": [
        "Y = df[['target']]\n",
        "Y.shape"
      ],
      "execution_count": null,
      "outputs": []
    },
    {
      "cell_type": "markdown",
      "metadata": {
        "id": "Hb5XDnh8zUFh"
      },
      "source": [
        "# Splitting dataset\n",
        "Split the data into random train and test subsets"
      ]
    },
    {
      "cell_type": "code",
      "metadata": {
        "id": "F_lsaFgrG0pi"
      },
      "source": [
        "from sklearn.model_selection import train_test_split\n",
        "X_train, X_test, y_train, y_test = train_test_split(x1, Y, \n",
        "                                                    test_size=0.2, \n",
        "                                                    random_state=42)"
      ],
      "execution_count": null,
      "outputs": []
    },
    {
      "cell_type": "markdown",
      "metadata": {
        "id": "sV-c5HGAF2vA"
      },
      "source": [
        "# Use Logistic regression"
      ]
    },
    {
      "cell_type": "code",
      "metadata": {
        "id": "hiSPv9hV54GQ"
      },
      "source": [
        "from sklearn.linear_model import LogisticRegression\n",
        "clf = LogisticRegression(random_state=0).fit(X_train,y_train)"
      ],
      "execution_count": null,
      "outputs": []
    },
    {
      "cell_type": "markdown",
      "metadata": {
        "id": "HXE4I6DlX1is"
      },
      "source": [
        "# Predicting"
      ]
    },
    {
      "cell_type": "markdown",
      "metadata": {
        "id": "uFqn77ug0UEE"
      },
      "source": [
        "Predict the values for the X_test. The output is array of the class_labels, where 1-9 indicates different genres of the music."
      ]
    },
    {
      "cell_type": "code",
      "metadata": {
        "id": "CiBupGjO7FXC"
      },
      "source": [
        "predicted_value = clf.predict(X_test)\n",
        "predicted_value"
      ],
      "execution_count": null,
      "outputs": []
    },
    {
      "cell_type": "markdown",
      "metadata": {
        "id": "BhO5Hdr50myr"
      },
      "source": [
        "# Confusion Matrix"
      ]
    },
    {
      "cell_type": "code",
      "metadata": {
        "id": "29RntSd5SLTX"
      },
      "source": [
        "sklearn.metrics.plot_confusion_matrix(clf, X_test, y_test)"
      ],
      "execution_count": null,
      "outputs": []
    },
    {
      "cell_type": "markdown",
      "metadata": {
        "id": "U-_ZrKfAW4-M"
      },
      "source": [
        "# Tabulate metrics"
      ]
    },
    {
      "cell_type": "code",
      "metadata": {
        "id": "iwAGpivhrpJe"
      },
      "source": [
        "print(classification_report(y_test, predicted_value))"
      ],
      "execution_count": null,
      "outputs": []
    },
    {
      "cell_type": "markdown",
      "metadata": {
        "id": "BRG7mpcWW93u"
      },
      "source": [
        "# Unseen audio file"
      ]
    },
    {
      "cell_type": "code",
      "metadata": {
        "id": "9Mz3_1FREQ-F"
      },
      "source": [
        "#Extract the feature from the audio_file\n",
        "audio_file=\"/content/music-genre-master/new_audio_file.wav\"\n",
        "audio_feature=feature_extraction(audio_file)"
      ],
      "execution_count": null,
      "outputs": []
    },
    {
      "cell_type": "code",
      "metadata": {
        "id": "b0FORz1bYZUq"
      },
      "source": [
        "result={1: 'metal',2: 'classical',3: 'rock', 4: 'disco',5: 'pop',6: 'blues',7: 'reggae',8: 'hiphop',9: 'country'}\n",
        "pred=clf.predict([audio_feature])\n",
        "result[int(pred)]"
      ],
      "execution_count": null,
      "outputs": []
    },
    {
      "cell_type": "markdown",
      "metadata": {
        "id": "_Aj7w5n-2RNs"
      },
      "source": [
        "# Your own audio files"
      ]
    },
    {
      "cell_type": "code",
      "metadata": {
        "id": "mi6sd3CJSZyt"
      },
      "source": [
        "!wget https://raw.githubusercontent.com/abcom-mltutorials/music/master/bhambhole.mp3"
      ],
      "execution_count": null,
      "outputs": []
    },
    {
      "cell_type": "code",
      "metadata": {
        "id": "FB6UdbEtkIpM"
      },
      "source": [
        "src = \"/content/bhambhole.mp3\"\n",
        "dst = \"test.wav\"\n",
        "\n",
        "# convert wav to mp3                                                            \n",
        "sound = AudioSegment.from_mp3(src)\n",
        "sound.export(dst, format=\"wav\")"
      ],
      "execution_count": null,
      "outputs": []
    },
    {
      "cell_type": "markdown",
      "metadata": {
        "id": "73xj6I8C4FA4"
      },
      "source": [
        "## Predict the genre of the song."
      ]
    },
    {
      "cell_type": "code",
      "metadata": {
        "id": "SinsmZuBknxk"
      },
      "source": [
        "#Extract the feature from the audio_file\n",
        "audio_file=\"/content/test.wav\"\n",
        "audio_feature=feature_extraction(audio_file)"
      ],
      "execution_count": null,
      "outputs": []
    },
    {
      "cell_type": "code",
      "metadata": {
        "id": "i71r8ey-stWO"
      },
      "source": [
        "pred=clf.predict([audio_feature])\n",
        "result[int(pred)]"
      ],
      "execution_count": null,
      "outputs": []
    }
  ]
}